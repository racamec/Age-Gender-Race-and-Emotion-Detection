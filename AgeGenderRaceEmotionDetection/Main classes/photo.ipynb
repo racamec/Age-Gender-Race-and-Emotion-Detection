{
 "cells": [
  {
   "cell_type": "code",
   "execution_count": 37,
   "id": "6e6bfe77-55fd-4078-8d6c-48d12ef33809",
   "metadata": {},
   "outputs": [
    {
     "name": "stderr",
     "output_type": "stream",
     "text": [
      "WARNING:absl:Compiled the loaded model, but the compiled metrics have yet to be built. `model.compile_metrics` will be empty until you train or evaluate the model.\n",
      "WARNING:absl:Compiled the loaded model, but the compiled metrics have yet to be built. `model.compile_metrics` will be empty until you train or evaluate the model.\n",
      "WARNING:absl:Compiled the loaded model, but the compiled metrics have yet to be built. `model.compile_metrics` will be empty until you train or evaluate the model.\n",
      "WARNING:absl:Compiled the loaded model, but the compiled metrics have yet to be built. `model.compile_metrics` will be empty until you train or evaluate the model.\n"
     ]
    },
    {
     "name": "stdout",
     "output_type": "stream",
     "text": [
      "\u001b[1m1/1\u001b[0m \u001b[32m━━━━━━━━━━━━━━━━━━━━\u001b[0m\u001b[37m\u001b[0m \u001b[1m0s\u001b[0m 87ms/step\n",
      "[0.07675062 0.00117675 0.10941379 0.04500742 0.59303623 0.15763889\n",
      " 0.01697626]\n",
      "Neutral\n",
      "\u001b[1m1/1\u001b[0m \u001b[32m━━━━━━━━━━━━━━━━━━━━\u001b[0m\u001b[37m\u001b[0m \u001b[1m0s\u001b[0m 113ms/step\n",
      "\u001b[1m1/1\u001b[0m \u001b[32m━━━━━━━━━━━━━━━━━━━━\u001b[0m\u001b[37m\u001b[0m \u001b[1m0s\u001b[0m 153ms/step\n",
      "\u001b[1m1/1\u001b[0m \u001b[32m━━━━━━━━━━━━━━━━━━━━\u001b[0m\u001b[37m\u001b[0m \u001b[1m0s\u001b[0m 109ms/step\n"
     ]
    }
   ],
   "source": [
    "from tensorflow.keras.models import load_model\n",
    "from tensorflow.keras.preprocessing.image import img_to_array\n",
    "import cv2\n",
    "import numpy as np\n",
    "from tensorflow.keras.metrics import MeanAbsoluteError\n",
    "\n",
    "emotion_model_path = \"C:\\\\emotion_detection_model_100epochs.h5\"\n",
    "gender_model_path = \"C:\\\\gender_model_50epochs.h5\"\n",
    "age_model_path = \"C:\\\\age_detection_model_30epochs.h5\"\n",
    "race_model_path =  \"C:\\\\race_detection_model_10epoch.h5\"\n",
    "\n",
    "# Load the models\n",
    "emotion_model = load_model(emotion_model_path)\n",
    "gender_model = load_model(gender_model_path)\n",
    "age_model = load_model(age_model_path, custom_objects={'mse': MeanAbsoluteError()})\n",
    "race_model = load_model(race_model_path)  # Load the race model\n",
    "\n",
    "face_classifier = cv2.CascadeClassifier(\"C:\\\\haarcascade_frontalface_default.xml\")\n",
    "\n",
    "class_labels = ['Angry', 'Disgust', 'Fear', 'Happy', 'Neutral', 'Sad', 'Surprise']\n",
    "gender_labels = ['Male', 'Female']\n",
    "race_labels = ['White', 'Black', 'Asian', 'Indian', 'Others']\n",
    "\n",
    "# Read the image from file\n",
    "#image_path = \"C:\\\\asian4.jpg\"\n",
    "image_path = \"C:\\\\blackwoman.jpg\"\n",
    "\n",
    "frame = cv2.imread(image_path)\n",
    "\n",
    "# Convert image to grayscale for face detection\n",
    "gray = cv2.cvtColor(frame, cv2.COLOR_BGR2GRAY)\n",
    "faces = face_classifier.detectMultiScale(gray, 1.3, 5)\n",
    "\n",
    "    \n",
    "for (x, y, w, h) in faces:\n",
    "    cv2.rectangle(frame, (x, y), (x+w, y+h), (255, 0, 0), 2)\n",
    "    roi_gray = gray[y:y+h, x:x+w]\n",
    "    roi_gray = cv2.resize(roi_gray, (48, 48), interpolation=cv2.INTER_AREA)\n",
    "\n",
    "    # Prepare image for emotion prediction\n",
    "    roi = roi_gray.astype('float') / 255.0  # Scale\n",
    "    roi = img_to_array(roi)\n",
    "    roi = np.expand_dims(roi, axis=0)  # Expand dims to get it ready for prediction (1, 48, 48, 1)\n",
    "\n",
    "    preds = emotion_model.predict(roi)[0]  # Yields one hot encoded result for 7 classes\n",
    "    print(preds)\n",
    "    label = class_labels[preds.argmax()]  # Find the label\n",
    "    print(label)\n",
    "    label_position = (x, y)\n",
    "    cv2.putText(frame, label, label_position, cv2.FONT_HERSHEY_SIMPLEX, 1, (0, 255, 0), 2)\n",
    "\n",
    "    # Gender prediction\n",
    "    roi_color = frame[y:y+h, x:x+w]\n",
    "    roi_color = cv2.resize(roi_color, (200, 200), interpolation=cv2.INTER_AREA)\n",
    "    gender_predict = gender_model.predict(np.array(roi_color).reshape(-1, 200, 200, 3))\n",
    "    gender_predict = (gender_predict >= 0.5).astype(int)[:, 0]\n",
    "    gender_label = gender_labels[gender_predict[0]]\n",
    "    gender_label_position = (x, y + h + 50)  # 50 pixels below to move the label outside the face\n",
    "    cv2.putText(frame, gender_label, gender_label_position, cv2.FONT_HERSHEY_SIMPLEX, 1, (0, 255, 0), 2)\n",
    "\n",
    "    # Age prediction\n",
    "    roi_age = cv2.cvtColor(roi_color, cv2.COLOR_BGR2GRAY)\n",
    "    roi_age = cv2.resize(roi_age, (128, 128), interpolation=cv2.INTER_AREA)\n",
    "    roi_age = roi_age.astype('float') / 255.0\n",
    "    roi_age = img_to_array(roi_age)\n",
    "    roi_age = np.expand_dims(roi_age, axis=0)\n",
    "    age_predict = age_model.predict(roi_age)\n",
    "    age = round(age_predict[0, 0])\n",
    "    age_label_position = (x + h, y + h)\n",
    "    cv2.putText(frame, \"Age=\" + str(age), age_label_position, cv2.FONT_HERSHEY_SIMPLEX, 1, (0, 255, 0), 2)\n",
    "    \n",
    "     # Race prediction\n",
    "    roi_race = cv2.resize(roi_color, (198, 198), interpolation=cv2.INTER_AREA)  # Resize to 198x198\n",
    "    roi_race = roi_race.astype('float') / 255.0\n",
    "    roi_race = img_to_array(roi_race)\n",
    "    roi_race = np.expand_dims(roi_race, axis=0)  # Ensure shape (1, 198, 198, 3)\n",
    "    race_pred = race_model.predict(roi_race)\n",
    "    race_label = race_labels[race_pred.argmax()]\n",
    "    race_label_position = (x, y + h + 150)\n",
    "    cv2.putText(frame, \"Race: \" + race_label, race_label_position, cv2.FONT_HERSHEY_SIMPLEX, 1, (0, 255, 0), 2)\n",
    "\n",
    "\n",
    "# Display the image with predictions\n",
    "cv2.imshow('Emotion, Gender, and Age Detector', frame)\n",
    "cv2.waitKey(0)\n",
    "cv2.destroyAllWindows()\n"
   ]
  },
  {
   "cell_type": "code",
   "execution_count": null,
   "id": "ceb6d795-e8a4-4dbc-b50b-656184f3c263",
   "metadata": {},
   "outputs": [],
   "source": []
  },
  {
   "cell_type": "code",
   "execution_count": null,
   "id": "ec6a7158-b3fb-41e5-b17b-50f4929c4b7d",
   "metadata": {},
   "outputs": [],
   "source": []
  },
  {
   "cell_type": "code",
   "execution_count": null,
   "id": "d6b21fe0-803f-4f5e-b173-74282d72ae59",
   "metadata": {},
   "outputs": [],
   "source": []
  }
 ],
 "metadata": {
  "kernelspec": {
   "display_name": "Python 3 (ipykernel)",
   "language": "python",
   "name": "python3"
  },
  "language_info": {
   "codemirror_mode": {
    "name": "ipython",
    "version": 3
   },
   "file_extension": ".py",
   "mimetype": "text/x-python",
   "name": "python",
   "nbconvert_exporter": "python",
   "pygments_lexer": "ipython3",
   "version": "3.11.7"
  }
 },
 "nbformat": 4,
 "nbformat_minor": 5
}
